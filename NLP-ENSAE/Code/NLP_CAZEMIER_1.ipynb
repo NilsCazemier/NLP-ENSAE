{
 "cells": [
  {
   "cell_type": "markdown",
   "metadata": {},
   "source": [
    "# NLP project - Sex prediction in a register - 1ere Partie"
   ]
  },
  {
   "cell_type": "code",
   "execution_count": 1,
   "metadata": {},
   "outputs": [],
   "source": [
    "### Importation des librairies utiles\n",
    "\n",
    "import pandas as pd\n",
    "import numpy as np\n",
    "import matplotlib.pyplot as plt\n",
    "import re\n",
    "\n",
    "from sklearn.model_selection import train_test_split, StratifiedKFold\n",
    "from sklearn.preprocessing import Normalizer\n",
    "from sklearn.feature_extraction.text import TfidfVectorizer\n",
    "from sklearn.metrics import classification_report, accuracy_score\n",
    "\n",
    "from gensim.models import Word2Vec\n",
    "\n",
    "### Acquisition des données\n",
    " \n",
    "names = pd.read_csv(\"..\\Data\\\\firstname_with_sex.csv\", sep=\";\", names=[\"name\", \"m\", \"f\"], header=0)\n",
    "names['sex'] = names.m/(names.m+names.f)\n",
    "names[\"name\"] = names.name.apply(lambda x : x.replace('è', 'e'))\n",
    "names[\"name\"] = names.name.apply(lambda x : x.replace('é', 'e'))\n",
    "names = names.set_index('name')\n",
    "trans = pd.read_csv(\"..\\Data\\\\transcriptions_with_sex.csv\")\n",
    "trans.drop(columns=\"subject_line\", inplace=True)\n",
    "\n",
    "trans[\"prediction\"] = trans.prediction.apply(lambda x : x.lower().replace('é', 'e'))\n",
    "trans[\"prediction\"] = trans.prediction.apply(lambda x : x.replace('è', 'e'))\n",
    "trans[\"groundtruth\"] = trans.groundtruth.apply(lambda x : x.lower().replace('é', 'e'))\n",
    "trans[\"groundtruth\"] = trans.groundtruth.apply(lambda x : x.replace('è', 'e'))\n",
    "trans[\"groundtruth\"] = trans.groundtruth.apply(lambda x : x.replace('ç', 'c'))\n",
    "\n",
    "# trans.to_pickle('trans.pkl')"
   ]
  },
  {
   "cell_type": "code",
   "execution_count": 2,
   "metadata": {},
   "outputs": [
    {
     "data": {
      "text/html": [
       "<div>\n",
       "<style scoped>\n",
       "    .dataframe tbody tr th:only-of-type {\n",
       "        vertical-align: middle;\n",
       "    }\n",
       "\n",
       "    .dataframe tbody tr th {\n",
       "        vertical-align: top;\n",
       "    }\n",
       "\n",
       "    .dataframe thead th {\n",
       "        text-align: right;\n",
       "    }\n",
       "</style>\n",
       "<table border=\"1\" class=\"dataframe\">\n",
       "  <thead>\n",
       "    <tr style=\"text-align: right;\">\n",
       "      <th></th>\n",
       "      <th>groundtruth</th>\n",
       "      <th>prediction</th>\n",
       "      <th>sex</th>\n",
       "    </tr>\n",
       "  </thead>\n",
       "  <tbody>\n",
       "    <tr>\n",
       "      <th>0</th>\n",
       "      <td>surname: chardon firstname: marie occupation: ...</td>\n",
       "      <td>nom: chardon prenom: marie date_naissance: 30 ...</td>\n",
       "      <td>femme</td>\n",
       "    </tr>\n",
       "    <tr>\n",
       "      <th>1</th>\n",
       "      <td>surname: lhopital firstname: louis-jean occupa...</td>\n",
       "      <td>nom: lhopital prenom: louis jean date_naissanc...</td>\n",
       "      <td>homme</td>\n",
       "    </tr>\n",
       "    <tr>\n",
       "      <th>2</th>\n",
       "      <td>surname: papin firstname: marie occupation: id...</td>\n",
       "      <td>nom: pyrin prenom: marie date_naissance: 55 re...</td>\n",
       "      <td>femme</td>\n",
       "    </tr>\n",
       "    <tr>\n",
       "      <th>3</th>\n",
       "      <td>surname: lavocat firstname: marie link: femme ...</td>\n",
       "      <td>nom: lavocat prenom: marie date_naissance: 187...</td>\n",
       "      <td>femme</td>\n",
       "    </tr>\n",
       "    <tr>\n",
       "      <th>4</th>\n",
       "      <td>surname: benne firstname: marguerite age: 78</td>\n",
       "      <td>nom: benne prenom: marguerite date_naissance: ...</td>\n",
       "      <td>femme</td>\n",
       "    </tr>\n",
       "  </tbody>\n",
       "</table>\n",
       "</div>"
      ],
      "text/plain": [
       "                                         groundtruth   \n",
       "0  surname: chardon firstname: marie occupation: ...  \\\n",
       "1  surname: lhopital firstname: louis-jean occupa...   \n",
       "2  surname: papin firstname: marie occupation: id...   \n",
       "3  surname: lavocat firstname: marie link: femme ...   \n",
       "4      surname: benne firstname: marguerite age: 78    \n",
       "\n",
       "                                          prediction    sex  \n",
       "0  nom: chardon prenom: marie date_naissance: 30 ...  femme  \n",
       "1  nom: lhopital prenom: louis jean date_naissanc...  homme  \n",
       "2  nom: pyrin prenom: marie date_naissance: 55 re...  femme  \n",
       "3  nom: lavocat prenom: marie date_naissance: 187...  femme  \n",
       "4  nom: benne prenom: marguerite date_naissance: ...  femme  "
      ]
     },
     "execution_count": 2,
     "metadata": {},
     "output_type": "execute_result"
    }
   ],
   "source": [
    "trans.head()"
   ]
  },
  {
   "cell_type": "code",
   "execution_count": 37,
   "metadata": {},
   "outputs": [
    {
     "data": {
      "text/plain": [
       "sex\n",
       "homme     125\n",
       "femme     107\n",
       "ambigu      9\n",
       "Name: count, dtype: int64"
      ]
     },
     "execution_count": 37,
     "metadata": {},
     "output_type": "execute_result"
    }
   ],
   "source": [
    "trans.sex.value_counts()"
   ]
  },
  {
   "cell_type": "code",
   "execution_count": 4,
   "metadata": {},
   "outputs": [
    {
     "data": {
      "text/html": [
       "<div>\n",
       "<style scoped>\n",
       "    .dataframe tbody tr th:only-of-type {\n",
       "        vertical-align: middle;\n",
       "    }\n",
       "\n",
       "    .dataframe tbody tr th {\n",
       "        vertical-align: top;\n",
       "    }\n",
       "\n",
       "    .dataframe thead th {\n",
       "        text-align: right;\n",
       "    }\n",
       "</style>\n",
       "<table border=\"1\" class=\"dataframe\">\n",
       "  <thead>\n",
       "    <tr style=\"text-align: right;\">\n",
       "      <th></th>\n",
       "      <th>m</th>\n",
       "      <th>f</th>\n",
       "      <th>sex</th>\n",
       "    </tr>\n",
       "    <tr>\n",
       "      <th>name</th>\n",
       "      <th></th>\n",
       "      <th></th>\n",
       "      <th></th>\n",
       "    </tr>\n",
       "  </thead>\n",
       "  <tbody>\n",
       "    <tr>\n",
       "      <th>marie</th>\n",
       "      <td>10145</td>\n",
       "      <td>2390322</td>\n",
       "      <td>0.004226</td>\n",
       "    </tr>\n",
       "    <tr>\n",
       "      <th>jean</th>\n",
       "      <td>1869615</td>\n",
       "      <td>6476</td>\n",
       "      <td>0.996548</td>\n",
       "    </tr>\n",
       "    <tr>\n",
       "      <th>pierre</th>\n",
       "      <td>1475841</td>\n",
       "      <td>5047</td>\n",
       "      <td>0.996592</td>\n",
       "    </tr>\n",
       "    <tr>\n",
       "      <th>jeanne</th>\n",
       "      <td>1765</td>\n",
       "      <td>1097397</td>\n",
       "      <td>0.001606</td>\n",
       "    </tr>\n",
       "    <tr>\n",
       "      <th>françois</th>\n",
       "      <td>1089009</td>\n",
       "      <td>5951</td>\n",
       "      <td>0.994565</td>\n",
       "    </tr>\n",
       "  </tbody>\n",
       "</table>\n",
       "</div>"
      ],
      "text/plain": [
       "                m        f       sex\n",
       "name                                \n",
       "marie       10145  2390322  0.004226\n",
       "jean      1869615     6476  0.996548\n",
       "pierre    1475841     5047  0.996592\n",
       "jeanne       1765  1097397  0.001606\n",
       "françois  1089009     5951  0.994565"
      ]
     },
     "execution_count": 4,
     "metadata": {},
     "output_type": "execute_result"
    }
   ],
   "source": [
    "names.head()"
   ]
  },
  {
   "cell_type": "markdown",
   "metadata": {},
   "source": [
    "## Transcriptions preprocessing"
   ]
  },
  {
   "cell_type": "code",
   "execution_count": 5,
   "metadata": {},
   "outputs": [],
   "source": [
    "### fonction de parsing d'une chaine des champs \"prediction\" et \"groundtruth\"\n",
    "\n",
    "def parse_fields(chaine):\n",
    "\n",
    "    pattern = r\"(\\w+):\\s*(.*?)\"\n",
    "\n",
    "    corres = re.findall(pattern, chaine)\n",
    "\n",
    "    champs = [cor[0] for cor in corres]\n",
    "\n",
    "    return champs\n",
    "\n",
    "### Collection de l'ensemble des champs listés par les registres\n",
    "\n",
    "def get_fields(df=trans):\n",
    "    \n",
    "    def get_fields_col(col:pd.Series):\n",
    "        parse_lis = list()\n",
    "        col.apply(lambda x : parse_lis.append(parse_fields(x)))\n",
    "        all_fields = [item for sublist in parse_lis for item in sublist]\n",
    "\n",
    "        return set(all_fields)\n",
    "    \n",
    "    return get_fields_col(df.groundtruth), get_fields_col(df.prediction)\n",
    "\n",
    "ground_fields, pred_fields = get_fields()"
   ]
  },
  {
   "cell_type": "code",
   "execution_count": 6,
   "metadata": {},
   "outputs": [],
   "source": [
    "### fonction de parsing des champs \"prediction\" et \"groundtruth\"\n",
    "\n",
    "def parse_chain_with_fields(chaine, fields):\n",
    "\n",
    "    corr_dict = dict()\n",
    "\n",
    "    for f in fields:\n",
    "        corr_dict[f]=pd.NA\n",
    "        # corr_dict.setdefault(f)\n",
    "\n",
    "    pattern = r\"(\\w+):\\s*(.*?)\"\n",
    "\n",
    "    corres = re.findall(pattern, chaine)\n",
    "\n",
    "    champs = [cor[0] for cor in corres]\n",
    "\n",
    "    regular = list(map(lambda x : x+\":\\s*(.*?)\", champs))\n",
    "    regular = \"\".join(regular)+\"$\"\n",
    "\n",
    "    final_corres = re.search(regular, chaine)\n",
    "\n",
    "\n",
    "    for i, cor in enumerate(champs):\n",
    "        corr_dict[cor] = final_corres.group(1+i)\n",
    "\n",
    "    return corr_dict\n"
   ]
  },
  {
   "cell_type": "code",
   "execution_count": 7,
   "metadata": {},
   "outputs": [
    {
     "data": {
      "text/plain": [
       "{'employer': <NA>,\n",
       " 'civil_status': <NA>,\n",
       " 'link': 'femme ',\n",
       " 'birth_date': <NA>,\n",
       " 'lob': <NA>,\n",
       " 'occupation': 'sp ',\n",
       " 'age': '68 ',\n",
       " 'surname': 'houdes ',\n",
       " 'observation': <NA>,\n",
       " 'firstname': 'jeanne '}"
      ]
     },
     "execution_count": 7,
     "metadata": {},
     "output_type": "execute_result"
    }
   ],
   "source": [
    "### Test du parsing de chaines\n",
    "ind = np.random.choice(trans.shape[0])\n",
    "chaine_ground = trans.groundtruth[ind]\n",
    "chaine_pred = trans.prediction[ind]\n",
    "\n",
    "parse_chain_with_fields(chaine_ground, ground_fields)"
   ]
  },
  {
   "cell_type": "code",
   "execution_count": 8,
   "metadata": {},
   "outputs": [
    {
     "data": {
      "text/plain": [
       "1"
      ]
     },
     "execution_count": 8,
     "metadata": {},
     "output_type": "execute_result"
    }
   ],
   "source": [
    "def contain(c, w):\n",
    "    try:\n",
    "        return int(c in \" \".join(w.split()))\n",
    "    except:\n",
    "        return 0\n",
    "contain('ty', 'uityre')"
   ]
  },
  {
   "cell_type": "code",
   "execution_count": 9,
   "metadata": {},
   "outputs": [
    {
     "data": {
      "text/plain": [
       "<AxesSubplot:>"
      ]
     },
     "execution_count": 9,
     "metadata": {},
     "output_type": "execute_result"
    },
    {
     "data": {
      "image/png": "[encoded data removed]",
      "text/plain": [
       "<Figure size 432x288 with 1 Axes>"
      ]
     },
     "metadata": {
      "needs_background": "light"
     },
     "output_type": "display_data"
    }
   ],
   "source": [
    "parsed_ground = pd.DataFrame(trans.groundtruth.apply(lambda x : parse_chain_with_fields(x, ground_fields)).tolist())\n",
    "parsed_pred = pd.DataFrame(trans.prediction.apply(lambda x : parse_chain_with_fields(x, pred_fields)).tolist())\n",
    "\n",
    "parsed_ground.columns = list(map(lambda x: \"ground_\"+x, parsed_ground.columns))\n",
    "parsed_pred.columns = list(map(lambda x: \"pred_\"+x, parsed_pred.columns))\n",
    "\n",
    "all_parsed = parsed_ground.join(parsed_pred)\n",
    "\n",
    "# all_parsed.replace(None, pd.NA, inplace=True)\n",
    "\n",
    "all_parsed.isna().apply(np.int64).mean(axis=1).plot()\n"
   ]
  },
  {
   "cell_type": "code",
   "execution_count": 10,
   "metadata": {},
   "outputs": [
    {
     "data": {
      "text/plain": [
       "ground_employer          2\n",
       "ground_civil_status      1\n",
       "ground_link             32\n",
       "ground_birth_date        0\n",
       "ground_lob               7\n",
       "ground_occupation       35\n",
       "ground_age              33\n",
       "ground_surname           2\n",
       "ground_observation       0\n",
       "ground_firstname         2\n",
       "pred_profession         11\n",
       "pred_lieux_naissance    13\n",
       "pred_nom                 2\n",
       "pred_etat_civil          5\n",
       "pred_education           0\n",
       "pred_prenom              5\n",
       "pred_date_naissance     12\n",
       "pred_employeur           4\n",
       "pred_relation           24\n",
       "dtype: int64"
      ]
     },
     "execution_count": 10,
     "metadata": {},
     "output_type": "execute_result"
    }
   ],
   "source": [
    "all_parsed.apply(lambda x : x.map(lambda y : contain(\" \", y))).sum()"
   ]
  },
  {
   "cell_type": "code",
   "execution_count": 11,
   "metadata": {},
   "outputs": [],
   "source": [
    "to_remove_ground = [\n",
    "    \"ground_surname\",\n",
    "    \"ground_lob\",\n",
    "    \"ground_observation\",\n",
    "    \"ground_age\",\n",
    "    \"ground_employer\",\n",
    "    \"ground_birth_date\"] \n",
    "to_remove_pred = [\n",
    "    \"pred_nom\",\n",
    "    \"pred_lieux_naissance\",\n",
    "    \"pred_etat_civil\",\n",
    "    \"pred_education\",\n",
    "    \"pred_date_naissance\",\n",
    "    \"pred_employeur\", \n",
    "]\n",
    "    \n",
    "to_remove = to_remove_ground + to_remove_pred"
   ]
  },
  {
   "cell_type": "code",
   "execution_count": 12,
   "metadata": {},
   "outputs": [],
   "source": [
    "clean = all_parsed.drop(columns=to_remove).join(trans.sex)\n",
    "clean_ground = parsed_ground.drop(columns=to_remove_ground).join(trans.sex)\n",
    "clean_pred = parsed_pred.drop(columns=to_remove_pred).join(trans.sex)\n",
    "\n",
    "clean.ground_firstname[clean.ground_firstname.isna()] = clean.pred_prenom[clean.ground_firstname.isna()]"
   ]
  },
  {
   "cell_type": "code",
   "execution_count": 15,
   "metadata": {},
   "outputs": [
    {
     "name": "stdout",
     "output_type": "stream",
     "text": [
      "'' \n",
      "metro \n",
      "id \n",
      "\" \n",
      "id \n",
      "patron \n",
      "patron \n",
      "cuisiniere \n",
      "domestique \n",
      "' \n",
      "culviciste \n",
      "d° \n",
      "voiturier \n",
      "\"' \n",
      "ed \n",
      "domestique de ferma \n",
      "sp \n",
      "enttinateur \n",
      "d° \n",
      "sans professeur \n",
      "entiiiateur \n",
      "sp \n",
      "emp pils \n",
      "id \n",
      "\" \n",
      "turaliste \n",
      "cleve de motarie \n",
      "charentier \n",
      "domestique \n",
      "sellier \n",
      "manoeuvre \n",
      "sans pe \n",
      "\" \n",
      "manoeuvre \n",
      "id \n",
      "polisseur \n",
      "employe \n",
      "journalier bessinateur \n",
      "lameau \n",
      "enttinateur \n",
      "charesier \n",
      "metag \n",
      "repasseuse \n",
      "culsiniere \n",
      "san pla \n",
      "naveur euregestrement \n",
      "d \n",
      "id \n",
      "id \n",
      "id \n",
      "' \n",
      "s por \n",
      "lavane \n",
      "menuisier \n",
      "eublinateur \n",
      "id \n",
      "louv fils \n",
      "represt de pamis \n",
      "menseuvr \n",
      "id \n",
      "profevitaire \n",
      "entiinateur \n",
      "href \n",
      "cubsiniere \n",
      "eublinat \n",
      "fils \n",
      "patron \n"
     ]
    }
   ],
   "source": [
    "print(*clean_pred.pred_profession[clean_pred.pred_profession.notna()], sep='\\n')\n",
    "\n",
    "### Professions par toujours lisibles / compréhensibles"
   ]
  },
  {
   "cell_type": "code",
   "execution_count": 17,
   "metadata": {},
   "outputs": [
    {
     "data": {
      "text/plain": [
       "sex\n",
       "homme    125\n",
       "femme    107\n",
       "Name: count, dtype: int64"
      ]
     },
     "execution_count": 17,
     "metadata": {},
     "output_type": "execute_result"
    }
   ],
   "source": [
    "## On choisit de retirer les sexes \"ambigus\" pour se concentrer sur une tache de classification binaire\n",
    "clean = clean.replace('ambigu', pd.NA)\n",
    "clean.dropna(subset='sex', inplace=True)\n",
    "clean.sex.value_counts()"
   ]
  },
  {
   "cell_type": "code",
   "execution_count": 19,
   "metadata": {},
   "outputs": [
    {
     "data": {
      "text/plain": [
       "6    114\n",
       "5     73\n",
       "7     32\n",
       "4     11\n",
       "8      1\n",
       "3      1\n",
       "Name: count, dtype: int64"
      ]
     },
     "execution_count": 19,
     "metadata": {},
     "output_type": "execute_result"
    }
   ],
   "source": [
    "clean.notna().sum(axis=1).value_counts()\n",
    "## 114 entrées du dataset présentent 6 entrées non NA "
   ]
  },
  {
   "cell_type": "code",
   "execution_count": 36,
   "metadata": {},
   "outputs": [
    {
     "data": {
      "text/plain": [
       "ground_civil_status    229\n",
       "ground_link             11\n",
       "ground_occupation       42\n",
       "ground_firstname         0\n",
       "pred_profession        167\n",
       "pred_prenom              0\n",
       "pred_relation           79\n",
       "sex                      0\n",
       "dtype: int64"
      ]
     },
     "execution_count": 36,
     "metadata": {},
     "output_type": "execute_result"
    }
   ],
   "source": [
    "clean.isna().sum()"
   ]
  },
  {
   "cell_type": "code",
   "execution_count": 20,
   "metadata": {},
   "outputs": [],
   "source": [
    "# clean.to_pickle('../Data/clean.pkl')"
   ]
  },
  {
   "cell_type": "markdown",
   "metadata": {},
   "source": [
    "## Scores des prénoms à l'aide de ``names``\n"
   ]
  },
  {
   "cell_type": "code",
   "execution_count": 21,
   "metadata": {},
   "outputs": [],
   "source": [
    "def predict(name, ref):\n",
    "    if '-' in name:\n",
    "        # print('-', name)\n",
    "        nm = name.split('-')\n",
    "        # print (nm)\n",
    "    elif ' ' in name:\n",
    "        nm = name.split()\n",
    "    else:\n",
    "        nm = [name]\n",
    "    \n",
    "    try:\n",
    "        scores = np.array(list(map(lambda x: ref.loc[x].sex, nm)))\n",
    "        return int(scores.mean()>0.5)\n",
    "    except:\n",
    "        \n",
    "        print(f\"Exception : {name} non prédit\")\n",
    "        return pd.NA\n"
   ]
  },
  {
   "cell_type": "code",
   "execution_count": 28,
   "metadata": {},
   "outputs": [
    {
     "data": {
      "text/plain": [
       "(1, 0)"
      ]
     },
     "execution_count": 28,
     "metadata": {},
     "output_type": "execute_result"
    }
   ],
   "source": [
    "mean_names = names.groupby('name').sum()\n",
    "mean_names.sex = 1 /  (mean_names.f / mean_names.m + 1)\n",
    "\n",
    "predict('jean-marie', mean_names), predict('marie-louise', mean_names)"
   ]
  },
  {
   "cell_type": "code",
   "execution_count": 32,
   "metadata": {},
   "outputs": [
    {
     "data": {
      "text/html": [
       "<div>\n",
       "<style scoped>\n",
       "    .dataframe tbody tr th:only-of-type {\n",
       "        vertical-align: middle;\n",
       "    }\n",
       "\n",
       "    .dataframe tbody tr th {\n",
       "        vertical-align: top;\n",
       "    }\n",
       "\n",
       "    .dataframe thead th {\n",
       "        text-align: right;\n",
       "    }\n",
       "</style>\n",
       "<table border=\"1\" class=\"dataframe\">\n",
       "  <thead>\n",
       "    <tr style=\"text-align: right;\">\n",
       "      <th></th>\n",
       "      <th>m</th>\n",
       "      <th>f</th>\n",
       "      <th>sex</th>\n",
       "    </tr>\n",
       "    <tr>\n",
       "      <th>name</th>\n",
       "      <th></th>\n",
       "      <th></th>\n",
       "      <th></th>\n",
       "    </tr>\n",
       "  </thead>\n",
       "  <tbody>\n",
       "    <tr>\n",
       "      <th>marie</th>\n",
       "      <td>10482</td>\n",
       "      <td>2390338</td>\n",
       "      <td>0.004366</td>\n",
       "    </tr>\n",
       "    <tr>\n",
       "      <th>louis</th>\n",
       "      <td>750498</td>\n",
       "      <td>2720</td>\n",
       "      <td>0.996389</td>\n",
       "    </tr>\n",
       "    <tr>\n",
       "      <th>louise</th>\n",
       "      <td>681</td>\n",
       "      <td>360914</td>\n",
       "      <td>0.001883</td>\n",
       "    </tr>\n",
       "    <tr>\n",
       "      <th>marguerite</th>\n",
       "      <td>1441</td>\n",
       "      <td>813859</td>\n",
       "      <td>0.001767</td>\n",
       "    </tr>\n",
       "  </tbody>\n",
       "</table>\n",
       "</div>"
      ],
      "text/plain": [
       "                 m        f       sex\n",
       "name                                 \n",
       "marie        10482  2390338  0.004366\n",
       "louis       750498     2720  0.996389\n",
       "louise         681   360914  0.001883\n",
       "marguerite    1441   813859  0.001767"
      ]
     },
     "execution_count": 32,
     "metadata": {},
     "output_type": "execute_result"
    }
   ],
   "source": [
    "mean_names.loc[['marie', 'louis', 'louise', 'marguerite']]"
   ]
  },
  {
   "cell_type": "code",
   "execution_count": 23,
   "metadata": {},
   "outputs": [
    {
     "name": "stdout",
     "output_type": "stream",
     "text": [
      "Exception : anroine non prédit\n",
      "Exception : branislav non prédit\n",
      "              precision    recall  f1-score   support\n",
      "\n",
      "           0       0.99      1.00      1.00       107\n",
      "           1       1.00      0.99      1.00       123\n",
      "\n",
      "    accuracy                           1.00       230\n",
      "   macro avg       1.00      1.00      1.00       230\n",
      "weighted avg       1.00      1.00      1.00       230\n",
      "\n"
     ]
    },
    {
     "data": {
      "text/html": [
       "<div>\n",
       "<style scoped>\n",
       "    .dataframe tbody tr th:only-of-type {\n",
       "        vertical-align: middle;\n",
       "    }\n",
       "\n",
       "    .dataframe tbody tr th {\n",
       "        vertical-align: top;\n",
       "    }\n",
       "\n",
       "    .dataframe thead th {\n",
       "        text-align: right;\n",
       "    }\n",
       "</style>\n",
       "<table border=\"1\" class=\"dataframe\">\n",
       "  <thead>\n",
       "    <tr style=\"text-align: right;\">\n",
       "      <th></th>\n",
       "      <th>ground_civil_status</th>\n",
       "      <th>ground_link</th>\n",
       "      <th>ground_occupation</th>\n",
       "      <th>ground_firstname</th>\n",
       "      <th>pred_profession</th>\n",
       "      <th>pred_prenom</th>\n",
       "      <th>pred_relation</th>\n",
       "      <th>sex</th>\n",
       "    </tr>\n",
       "  </thead>\n",
       "  <tbody>\n",
       "    <tr>\n",
       "      <th>52</th>\n",
       "      <td>&lt;NA&gt;</td>\n",
       "      <td>fils</td>\n",
       "      <td>idem</td>\n",
       "      <td>anroine</td>\n",
       "      <td>ed</td>\n",
       "      <td>antoine</td>\n",
       "      <td>&lt;NA&gt;</td>\n",
       "      <td>homme</td>\n",
       "    </tr>\n",
       "    <tr>\n",
       "      <th>121</th>\n",
       "      <td>&lt;NA&gt;</td>\n",
       "      <td>frere</td>\n",
       "      <td>manoeuvre</td>\n",
       "      <td>branislav</td>\n",
       "      <td>manoeuvre</td>\n",
       "      <td>branistau</td>\n",
       "      <td>frere</td>\n",
       "      <td>homme</td>\n",
       "    </tr>\n",
       "  </tbody>\n",
       "</table>\n",
       "</div>"
      ],
      "text/plain": [
       "    ground_civil_status ground_link ground_occupation ground_firstname   \n",
       "52                 <NA>       fils              idem          anroine   \\\n",
       "121                <NA>      frere         manoeuvre        branislav    \n",
       "\n",
       "    pred_profession pred_prenom pred_relation    sex  \n",
       "52              ed     antoine           <NA>  homme  \n",
       "121      manoeuvre   branistau         frere   homme  "
      ]
     },
     "execution_count": 23,
     "metadata": {},
     "output_type": "execute_result"
    }
   ],
   "source": [
    "pred = clean.ground_firstname.apply(lambda x: predict(\" \".join(x.split()), mean_names))\n",
    "ind_to_drop = pred.isna()\n",
    "pred.dropna(inplace=True)\n",
    "pred = pred.apply(int)\n",
    "y = (clean.sex == 'homme').apply(int)\n",
    "y = y[~ind_to_drop]\n",
    "\n",
    "\n",
    "print(classification_report(y, pred))\n",
    "\n",
    "clean[ind_to_drop]\n",
    "\n",
    "# clean[~(1 - clean.ground_firstname.apply(lambda x: predict(\"\".join(x.split()), mean_names)) == (clean.sex != 'homme'))]\n",
    "\n"
   ]
  },
  {
   "cell_type": "markdown",
   "metadata": {},
   "source": [
    "Deux prénoms seulement sont mal prédits: ``anroine`` (faute de retranscriptions du prénom) et `branislav` (prénom plutôt rare non présent dans les données). Le reste des informations peuvent cependant à tout de même classifier ces personnes."
   ]
  },
  {
   "cell_type": "markdown",
   "metadata": {},
   "source": [
    "## Prediction with zero-shot classifier using BERT "
   ]
  },
  {
   "cell_type": "markdown",
   "metadata": {},
   "source": [
    "CF $2^e$ Notebook"
   ]
  }
 ],
 "metadata": {
  "kernelspec": {
   "display_name": "Python 3",
   "language": "python",
   "name": "python3"
  },
  "language_info": {
   "codemirror_mode": {
    "name": "ipython",
    "version": 3
   },
   "file_extension": ".py",
   "mimetype": "text/x-python",
   "name": "python",
   "nbconvert_exporter": "python",
   "pygments_lexer": "ipython3",
   "version": "3.10.1"
  }
 },
 "nbformat": 4,
 "nbformat_minor": 2
}
